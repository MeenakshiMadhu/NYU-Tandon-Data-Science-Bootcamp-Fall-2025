{
 "cells": [
  {
   "cell_type": "markdown",
   "id": "5c29c9dd-f05e-46d8-ac6a-ac95e0bd38bd",
   "metadata": {},
   "source": [
    "## DS Bootcamp Fall 2025\n",
    "## Week 1 Exercise\n",
    "#### Submitted by Meenakshi Madhu (MM14029)"
   ]
  },
  {
   "cell_type": "markdown",
   "id": "05b57541-9556-4044-acd7-4f05b1588be5",
   "metadata": {},
   "source": [
    "#### Take home exercises\n",
    "\n",
    "1. Write a program that takes a word as an input and print the number of vowels in the word.\n",
    "2. Iterate through the following list of animals and print each one in all caps.\n",
    "\n",
    "  animals=['tiger', 'elephant', 'monkey', 'zebra', 'panther']\n",
    "\n",
    "3. Write a program that iterates from 1 to 20, printing each number and whether it's odd or even.\n",
    "4. Write a program to check if a string is a palindrome or not.\n",
    "5. Write a function *sum_of_integers(a, b)* that takes two integers as input from the user and returns their sum. (optional)\n"
   ]
  },
  {
   "cell_type": "code",
   "execution_count": 1,
   "id": "908db472-2133-4e1e-8800-af2c0d21d939",
   "metadata": {},
   "outputs": [
    {
     "name": "stdout",
     "output_type": "stream",
     "text": [
      "5\n"
     ]
    }
   ],
   "source": [
    "#1 \n",
    "word = \"DataScience\"\n",
    "\n",
    "vowels = ['a', 'e', 'i', 'o', 'u', 'A', 'E', 'I', 'O', 'U']\n",
    "ctr = 0\n",
    "for i in range(len(word)):\n",
    "    if word[i] in vowels:\n",
    "        ctr += 1\n",
    "print(ctr)"
   ]
  },
  {
   "cell_type": "code",
   "execution_count": 2,
   "id": "836bd1e4-413b-4a5e-a076-15abd31a3f6c",
   "metadata": {},
   "outputs": [
    {
     "name": "stdout",
     "output_type": "stream",
     "text": [
      "TIGER\n",
      "ELEPHANT\n",
      "MONKEY\n",
      "ZEBRA\n",
      "PANTHER\n"
     ]
    }
   ],
   "source": [
    "#2\n",
    "animals=['tiger', 'elephant', 'monkey', 'zebra', 'panther']\n",
    "\n",
    "for animal in animals:\n",
    "    print(animal.upper())"
   ]
  },
  {
   "cell_type": "code",
   "execution_count": 3,
   "id": "0a6e067a-1f6d-45a7-9c3b-5bdcb0a38ffb",
   "metadata": {},
   "outputs": [
    {
     "name": "stdout",
     "output_type": "stream",
     "text": [
      "1 - odd\n",
      "2 - even\n",
      "3 - odd\n",
      "4 - even\n",
      "5 - odd\n",
      "6 - even\n",
      "7 - odd\n",
      "8 - even\n",
      "9 - odd\n",
      "10 - even\n",
      "11 - odd\n",
      "12 - even\n",
      "13 - odd\n",
      "14 - even\n",
      "15 - odd\n",
      "16 - even\n",
      "17 - odd\n",
      "18 - even\n",
      "19 - odd\n",
      "20 - even\n"
     ]
    }
   ],
   "source": [
    "#3\n",
    "for i in range(1,21):\n",
    "    if i%2 == 0:\n",
    "        print(i,\"- even\")\n",
    "    else:\n",
    "        print(i,\"- odd\")"
   ]
  },
  {
   "cell_type": "code",
   "execution_count": 4,
   "id": "1d6cf79d-579b-45fc-b9cb-6bcd66dd3433",
   "metadata": {},
   "outputs": [
    {
     "name": "stdout",
     "output_type": "stream",
     "text": [
      "Racecar is a palindrome.\n"
     ]
    }
   ],
   "source": [
    "#4\n",
    "word = \"Racecar\"\n",
    "\n",
    "# make all letters lowercase before checking\n",
    "word_low = word.lower()\n",
    "\n",
    "# reverse the word\n",
    "word_rev = word_low[::-1]\n",
    "\n",
    "if word_low == word_rev:\n",
    "    print(word, \"is a palindrome.\")\n",
    "else:\n",
    "    print(word, \"is not a palindrome.\")"
   ]
  },
  {
   "cell_type": "code",
   "execution_count": 5,
   "id": "74b1e357-13d6-486f-b995-391e506111cd",
   "metadata": {},
   "outputs": [
    {
     "name": "stdout",
     "output_type": "stream",
     "text": [
      "35\n"
     ]
    }
   ],
   "source": [
    "#5\n",
    "def sum_of_integers(a, b):\n",
    "    return a+b\n",
    "\n",
    "a = 10\n",
    "b = 25\n",
    "print(sum_of_integers(a,b))"
   ]
  },
  {
   "cell_type": "markdown",
   "id": "c350b379-0c42-44ae-86bd-8aca8ad6998d",
   "metadata": {},
   "source": [
    "### Additional Challenge - Books data challenge"
   ]
  },
  {
   "cell_type": "code",
   "execution_count": 6,
   "id": "79573a89-2fe0-440f-8033-c19114a4944a",
   "metadata": {},
   "outputs": [],
   "source": [
    "books = [\n",
    "    {\n",
    "        \"title\": \"The Great Gatsby\",\n",
    "        \"author\": \"F. Scott Fitzgerald\",\n",
    "        \"genre\": \"Fiction\",\n",
    "        \"rating\": 4.2\n",
    "    },\n",
    "    {\n",
    "        \"title\": \"To Kill a Mockingbird\",\n",
    "        \"author\": \"Harper Lee\",\n",
    "        \"genre\": \"Classic\",\n",
    "        \"rating\": 4.5\n",
    "    },\n",
    "    {\n",
    "        \"title\": \"1984\",\n",
    "        \"author\": \"George Orwell\",\n",
    "        \"genre\": \"Dystopian\",\n",
    "        \"rating\": 4.8\n",
    "    },\n",
    "    {\n",
    "        \"title\": \"Pride and Prejudice\",\n",
    "        \"author\": \"Jane Austen\",\n",
    "        \"genre\": \"Romance\",\n",
    "        \"rating\": 4.7\n",
    "    },\n",
    "    {\n",
    "        \"title\": \"Harry Potter and the Sorcerer's Stone\",\n",
    "        \"author\": \"J.K. Rowling\",\n",
    "        \"genre\": \"Fantasy\",\n",
    "        \"rating\": 4.9\n",
    "    },\n",
    "    {\n",
    "        \"title\": \"The Catcher in the Rye\",\n",
    "        \"author\": \"J.D. Salinger\",\n",
    "        \"genre\": \"Coming-of-age\",\n",
    "        \"rating\": 4.1\n",
    "    }\n",
    "]"
   ]
  },
  {
   "cell_type": "markdown",
   "id": "b3a5a8f0-ddb6-43d2-83e8-5c1fb4a87ba1",
   "metadata": {},
   "source": [
    "1. Checking Book Ratings\n",
    "\n",
    "    Write a function `check_rating(book)` that takes a book dictionary and returns True if the rating is greater than 4.5, and False otherwise. Additionally, modify the function to return 'low' if the rating is less than or equal to 4.0, 'medium' if it's greater than 4.0 but less than or equal to 4.5, and 'high' if it's greater than 4.5.\n",
    "\n",
    "2. Average Rating by Genre\n",
    "\n",
    "    Write a function `average_rating_by_genre(books, genre)` that accepts the list of books and a genre, and returns the average rating for that genre. If the genre does not exist in the list, return an appropriate message.\n",
    "\n",
    "3. Books by Author\n",
    "\n",
    "    Write a function `books_by_author(books, author)` that accepts the book list and an author's name, and returns a list of all the books written by that author. If the author does not exist, raise a custom error."
   ]
  },
  {
   "cell_type": "markdown",
   "id": "7d2f5766-ffe5-4d38-afc8-dae9a2fc96ae",
   "metadata": {},
   "source": [
    "#### 1. Checking Book Ratings"
   ]
  },
  {
   "cell_type": "code",
   "execution_count": 7,
   "id": "11ac65cf-0614-4bba-8743-6c0fcc961fb9",
   "metadata": {},
   "outputs": [],
   "source": [
    "#1 \n",
    "def check_rating(book):\n",
    "    if book[\"rating\"] > 4.5:\n",
    "        return True\n",
    "    else:\n",
    "        return False\n",
    "\n",
    "def check_rating_modified(book):\n",
    "    if book[\"rating\"] > 4.5:\n",
    "        return 'high'\n",
    "    elif book[\"rating\"] > 4.0:\n",
    "        return 'medium'\n",
    "    else:\n",
    "        return 'low'"
   ]
  },
  {
   "cell_type": "code",
   "execution_count": 8,
   "id": "a91c8486-4e58-4364-bb91-c418b932bde5",
   "metadata": {},
   "outputs": [
    {
     "name": "stdout",
     "output_type": "stream",
     "text": [
      "Function 1:\n",
      "False\n",
      "False\n",
      "True\n",
      "True\n",
      "True\n",
      "False\n",
      "\n",
      "\n",
      "Function 2:\n",
      "medium\n",
      "medium\n",
      "high\n",
      "high\n",
      "high\n",
      "medium\n"
     ]
    }
   ],
   "source": [
    "print(\"Function 1:\")\n",
    "for book in books:\n",
    "    print(check_rating(book))\n",
    "\n",
    "print(\"\\n\")\n",
    "\n",
    "print(\"Function 2:\")\n",
    "for book in books:\n",
    "    print(check_rating_modified(book))\n"
   ]
  },
  {
   "cell_type": "markdown",
   "id": "fa5977ae-92a8-49c0-8c11-2934a1ed9c57",
   "metadata": {},
   "source": [
    "#### 2. Average Rating by Genre"
   ]
  },
  {
   "cell_type": "code",
   "execution_count": 9,
   "id": "f2dc304e-4904-42a5-a569-142d3b59d7f0",
   "metadata": {},
   "outputs": [],
   "source": [
    "# 2\n",
    "def average_rating_by_genre(books, genre):\n",
    "\n",
    "    ratings = []\n",
    "    for book in books:\n",
    "        if book[\"genre\"] == genre:\n",
    "            ratings.append(book[\"rating\"])\n",
    "\n",
    "    if len(ratings) == 0:\n",
    "        return \"Genre does not exist\"\n",
    "\n",
    "    return sum(ratings)/len(ratings)"
   ]
  },
  {
   "cell_type": "code",
   "execution_count": 10,
   "id": "2937a4f0-fda5-4bc4-97fb-fc61a3f732f4",
   "metadata": {},
   "outputs": [
    {
     "name": "stdout",
     "output_type": "stream",
     "text": [
      "4.9\n"
     ]
    }
   ],
   "source": [
    "print(average_rating_by_genre(books, \"Fantasy\"))"
   ]
  },
  {
   "cell_type": "code",
   "execution_count": 11,
   "id": "2d4d2835-ecd6-4393-aab5-fd5ff75c7772",
   "metadata": {},
   "outputs": [
    {
     "name": "stdout",
     "output_type": "stream",
     "text": [
      "Genre does not exist\n"
     ]
    }
   ],
   "source": [
    "print(average_rating_by_genre(books, \"Horror\"))"
   ]
  },
  {
   "cell_type": "markdown",
   "id": "0a584af3-4915-44b3-a5bd-289b64eda103",
   "metadata": {},
   "source": [
    "#### 3. Books by Author"
   ]
  },
  {
   "cell_type": "code",
   "execution_count": 12,
   "id": "1a857e3f-64ba-4c9c-8cff-346cb6feb491",
   "metadata": {},
   "outputs": [],
   "source": [
    "def books_by_author(books, author):\n",
    "\n",
    "    books_by_auth = []\n",
    "    for book in books:\n",
    "        if book[\"author\"] == author:\n",
    "            books_by_auth.append(book[\"title\"])\n",
    "\n",
    "    if len(books_by_auth) == 0:\n",
    "        return \"Author does not exist\"\n",
    "\n",
    "    return books_by_auth"
   ]
  },
  {
   "cell_type": "code",
   "execution_count": 13,
   "id": "b4f95498-c87c-465b-b96a-121c78f5c28b",
   "metadata": {},
   "outputs": [
    {
     "name": "stdout",
     "output_type": "stream",
     "text": [
      "Books by author Harper Lee\n",
      "['To Kill a Mockingbird']\n"
     ]
    }
   ],
   "source": [
    "print(\"Books by author\", \"Harper Lee\")\n",
    "\n",
    "print(books_by_author(books, \"Harper Lee\"))"
   ]
  },
  {
   "cell_type": "code",
   "execution_count": 14,
   "id": "51c7ed33-439e-4aa7-93ca-8c948d584716",
   "metadata": {},
   "outputs": [
    {
     "name": "stdout",
     "output_type": "stream",
     "text": [
      "Books by author Roald Dahl\n",
      "Author does not exist\n"
     ]
    }
   ],
   "source": [
    "print(\"Books by author\", \"Roald Dahl\")\n",
    "\n",
    "print(books_by_author(books, \"Roald Dahl\"))"
   ]
  }
 ],
 "metadata": {
  "kernelspec": {
   "display_name": "Python 3 (ipykernel)",
   "language": "python",
   "name": "python3"
  },
  "language_info": {
   "codemirror_mode": {
    "name": "ipython",
    "version": 3
   },
   "file_extension": ".py",
   "mimetype": "text/x-python",
   "name": "python",
   "nbconvert_exporter": "python",
   "pygments_lexer": "ipython3",
   "version": "3.9.6"
  }
 },
 "nbformat": 4,
 "nbformat_minor": 5
}
